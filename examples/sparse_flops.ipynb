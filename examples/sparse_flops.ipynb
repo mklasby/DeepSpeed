{
 "cells": [
  {
   "cell_type": "code",
   "execution_count": 5,
   "metadata": {},
   "outputs": [],
   "source": [
    "import torch\n",
    "import torch.nn as nn\n",
    "import torch.nn.functional as F\n",
    "\n",
    "class MLP(torch.nn.Module):\n",
    "    def __init__(self, in_channels: int=32):\n",
    "        super().__init__()\n",
    "        self.fc1 = nn.Linear(in_channels, 64, bias=False)\n",
    "        self.fc2 = nn.Linear(64, 128, bias=False)\n",
    "        self.fc3 = nn.Linear(128, 64, bias=False)\n",
    "        self.fc4 = nn.Linear(64, 10, bias=False)\n",
    "\n",
    "    def forward(self, x):\n",
    "        x = F.relu(self.fc1(x))\n",
    "        x = F.relu(self.fc2(x))\n",
    "        x = F.relu(self.fc3(x))\n",
    "        x = F.relu(self.fc4(x))\n",
    "        return x"
   ]
  },
  {
   "cell_type": "code",
   "execution_count": null,
   "metadata": {},
   "outputs": [],
   "source": []
  },
  {
   "cell_type": "code",
   "execution_count": 6,
   "metadata": {},
   "outputs": [],
   "source": [
    "@torch.no_grad\n",
    "def sparsify_mlp(mod: nn.Module, sparsity=0.5):\n",
    "    for n,p in mod.named_parameters():\n",
    "        if \"weight\" not in n:\n",
    "            continue\n",
    "        mask = torch.zeros_like(p)\n",
    "        idx = torch.randperm(mask.numel())\n",
    "        ones = int(mask.numel() * (1-sparsity))\n",
    "        idx = idx[:ones]\n",
    "        mask.flatten()[idx] = 1\n",
    "        p.data = p*mask\n",
    "        p.mask = mask\n",
    "    return mod\n",
    "\n",
    "from copy import deepcopy\n",
    "mlp = MLP()\n",
    "mlp_sparse = deepcopy(mlp)\n",
    "mlp_sparse = sparsify_mlp(mlp_sparse)"
   ]
  },
  {
   "cell_type": "code",
   "execution_count": null,
   "metadata": {},
   "outputs": [],
   "source": []
  },
  {
   "cell_type": "code",
   "execution_count": 10,
   "metadata": {},
   "outputs": [
    {
     "name": "stdout",
     "output_type": "stream",
     "text": [
      "[2024-10-24 13:40:34,162] [INFO] [profiler.py:1222:get_model_profile] Flops profiler warming-up...\n",
      "[2024-10-24 13:40:34,164] [INFO] [profiler.py:83:start_profile] Flops profiler started\n",
      "[2024-10-24 13:40:34,166] [INFO] [profiler.py:229:end_profile] Flops profiler finished\n",
      "38410 19072 19072\n"
     ]
    }
   ],
   "source": [
    "from deepspeed.profiling.flops_profiler import get_model_profile\n",
    "input_shape = (1,32)\n",
    "flops, macs, params = get_model_profile(\n",
    "        model=mlp,  # model\n",
    "        input_shape=input_shape,  # input shape to the model. If specified, the model takes a tensor with this shape as the only positional argument.\n",
    "        args=None,  # list of positional arguments to the model.\n",
    "        kwargs=None,  # dictionary of keyword arguments to the model.\n",
    "        print_profile=False,  # prints the model graph with the measured profile attached to each module\n",
    "        detailed=False,  # print the detailed profile\n",
    "        module_depth=-1,  # depth into the nested modules, with -1 being the inner most modules\n",
    "        top_modules=1,  # the number of top modules to print aggregated profile\n",
    "        warm_up=0,  # the number of warm-ups before measuring the time of each module\n",
    "        as_string=False,  # print raw numbers (e.g. 1000) or as human-readable strings (e.g. 1k)\n",
    "        output_file=None,  # path to the output file. If None, the profiler prints to stdout.\n",
    "        ignore_modules=None,\n",
    "    )  # the list of modules to ignore in the profiling\n",
    "print(flops, macs, params)"
   ]
  },
  {
   "cell_type": "code",
   "execution_count": 11,
   "metadata": {},
   "outputs": [
    {
     "name": "stdout",
     "output_type": "stream",
     "text": [
      "[2024-10-24 13:40:37,860] [INFO] [profiler.py:1222:get_model_profile] Flops profiler warming-up...\n",
      "[2024-10-24 13:40:37,861] [INFO] [profiler.py:83:start_profile] Flops profiler started\n",
      "sparse linear:\n",
      "Input sparsity 0, weight sparsity 0.5\n",
      "Input shape torch.Size([1, 32]), weight shape torch.Size([64, 32])\n",
      "sparse linear:\n",
      "Input sparsity 0, weight sparsity 0.5\n",
      "Input shape torch.Size([1, 64]), weight shape torch.Size([128, 64])\n",
      "sparse linear:\n",
      "Input sparsity 0, weight sparsity 0.5\n",
      "Input shape torch.Size([1, 128]), weight shape torch.Size([64, 128])\n",
      "sparse linear:\n",
      "Input sparsity 0, weight sparsity 0.5\n",
      "Input shape torch.Size([1, 64]), weight shape torch.Size([10, 64])\n",
      "[2024-10-24 13:40:37,864] [INFO] [profiler.py:229:end_profile] Flops profiler finished\n",
      "38410 19072 19072\n"
     ]
    }
   ],
   "source": [
    "sflops, smacs, sparams = get_model_profile(\n",
    "        model=mlp_sparse,  # model\n",
    "        input_shape=input_shape,  # input shape to the model. If specified, the model takes a tensor with this shape as the only positional argument.\n",
    "        args=None,  # list of positional arguments to the model.\n",
    "        kwargs=None,  # dictionary of keyword arguments to the model.\n",
    "        print_profile=False,  # prints the model graph with the measured profile attached to each module\n",
    "        detailed=False,  # print the detailed profile\n",
    "        module_depth=-1,  # depth into the nested modules, with -1 being the inner most modules\n",
    "        top_modules=1,  # the number of top modules to print aggregated profile\n",
    "        warm_up=0,  # the number of warm-ups before measuring the time of each module\n",
    "        as_string=False,  # print raw numbers (e.g. 1000) or as human-readable strings (e.g. 1k)\n",
    "        output_file=None,  # path to the output file. If None, the profiler prints to stdout.\n",
    "        ignore_modules=None,\n",
    "    )  # the list of modules to ignore in the profiling\n",
    "print(flops, macs, params)"
   ]
  },
  {
   "cell_type": "code",
   "execution_count": 12,
   "metadata": {},
   "outputs": [
    {
     "data": {
      "text/plain": [
       "1.9862446995552798"
      ]
     },
     "execution_count": 12,
     "metadata": {},
     "output_type": "execute_result"
    }
   ],
   "source": [
    "flops/sflops"
   ]
  },
  {
   "cell_type": "code",
   "execution_count": 13,
   "metadata": {},
   "outputs": [
    {
     "data": {
      "text/plain": [
       "2.0"
      ]
     },
     "execution_count": 13,
     "metadata": {},
     "output_type": "execute_result"
    }
   ],
   "source": [
    "macs/smacs"
   ]
  },
  {
   "cell_type": "code",
   "execution_count": 15,
   "metadata": {},
   "outputs": [
    {
     "data": {
      "text/plain": [
       "1.0"
      ]
     },
     "execution_count": 15,
     "metadata": {},
     "output_type": "execute_result"
    }
   ],
   "source": [
    "params/sparams"
   ]
  }
 ],
 "metadata": {
  "kernelspec": {
   "display_name": ".venv",
   "language": "python",
   "name": "python3"
  },
  "language_info": {
   "codemirror_mode": {
    "name": "ipython",
    "version": 3
   },
   "file_extension": ".py",
   "mimetype": "text/x-python",
   "name": "python",
   "nbconvert_exporter": "python",
   "pygments_lexer": "ipython3",
   "version": "3.10.13"
  }
 },
 "nbformat": 4,
 "nbformat_minor": 2
}
